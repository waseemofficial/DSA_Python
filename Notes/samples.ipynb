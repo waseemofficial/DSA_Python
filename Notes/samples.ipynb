{
 "cells": [
  {
   "cell_type": "markdown",
   "metadata": {},
   "source": [
    "# Data Structures and Algorithms using Python"
   ]
  },
  {
   "cell_type": "markdown",
   "metadata": {},
   "source": [
    " # List"
   ]
  },
  {
   "cell_type": "code",
   "execution_count": null,
   "metadata": {},
   "outputs": [],
   "source": [
    "# Dynamic Array\n",
    "import sys\n",
    "L=[]\n",
    "for i in range(100):\n",
    "    print(i,sys.getsizeof(L))\n",
    "    L.append(1)\n"
   ]
  },
  {
   "cell_type": "markdown",
   "metadata": {},
   "source": [
    "<img src=\"../static/dynamicarray.excalidraw.png\" align=\"center\">"
   ]
  },
  {
   "cell_type": "markdown",
   "metadata": {},
   "source": [
    "# Create Linst using Ctypes library\n",
    "\n",
    "    ctypes, a form of language binding in Python and OCaml that can load C functions from shared libraries or DLLs on-the-fly"
   ]
  },
  {
   "cell_type": "code",
   "execution_count": 90,
   "metadata": {},
   "outputs": [],
   "source": [
    "import ctypes\n",
    "\n",
    "class Mylist:\n",
    "    def __init__(self):\n",
    "        self.size = 1\n",
    "        self.n = 0\n",
    "        #! create a C type array with size = self.size\n",
    "        self.A = self.__make_array(self.size)\n",
    "    # len magic function \n",
    "    def __len__(self):\n",
    "        return self.n    \n",
    "    # when print is used it call __str__ which prints memory address we have to overwrite this its called method overwrite in java oop's\n",
    "    def __str__(self):\n",
    "        # [x,y,z,..]\n",
    "        result = \"\"\n",
    "        for i in range(self.n):\n",
    "            result = result + str(self.A[i]) + ','\n",
    "\n",
    "        return \"[\" + result[:-1] + \"]\"\n",
    "    \n",
    "    # magic method __getitem__ is triggered when we call object with [] like L[] \n",
    "    def __getitem__(self,index):\n",
    "        try:\n",
    "            if 0 < index < self.n:\n",
    "                return self.A[index]\n",
    "        except:\n",
    "            if index == \"\":\n",
    "                return \"Index is empty\"\n",
    "            elif type(index) == str :\n",
    "                return \"you have passed a String\"\n",
    "            elif index > self.n:\n",
    "                return \"indexError - index out of range\"\n",
    "         \n",
    "    # append function\n",
    "    def append(self,item):\n",
    "        if self.n == self.size:\n",
    "            # call function resize\n",
    "            self.__resize(self.size*2)\n",
    "        self.A[self.n] = item\n",
    "        self.n = self.n +1 \n",
    "    \n",
    "    # function to remove/pop an item\n",
    "    def pop(self):\n",
    "        temp = \"\"\n",
    "        if self.n == 0:\n",
    "            return \"Empty list\"\n",
    "        temp = self.A[self.n-1]\n",
    "        self.n = self.n-1\n",
    "        print(temp)\n",
    "        return temp\n",
    "        \n",
    "\n",
    "    # function to resize\n",
    "    def __resize(self,new_capacity):\n",
    "        # create a new Array with new capacity\n",
    "        B = self.__make_array(new_capacity)\n",
    "        self.size = new_capacity\n",
    "        # copy the content of A in B\n",
    "        for i in range(self.n):\n",
    "            B[i] = self.A[i] \n",
    "        # re-assign A\n",
    "        self.A = B\n",
    "\n",
    "    def __make_array(self,capacity):\n",
    "        #! this code creates a C type Array(static,referential) with size capacity     \n",
    "        return (capacity*ctypes.py_object)()"
   ]
  },
  {
   "cell_type": "code",
   "execution_count": 91,
   "metadata": {},
   "outputs": [
    {
     "data": {
      "text/plain": [
       "__main__.Mylist"
      ]
     },
     "execution_count": 91,
     "metadata": {},
     "output_type": "execute_result"
    }
   ],
   "source": [
    "L= Mylist()\n",
    "type(L)"
   ]
  },
  {
   "cell_type": "code",
   "execution_count": 121,
   "metadata": {},
   "outputs": [
    {
     "name": "stdout",
     "output_type": "stream",
     "text": [
      "[1,he;;p,ddoja,100]\n"
     ]
    }
   ],
   "source": [
    "L.append(1)\n",
    "L.append(\"he;;p\")\n",
    "L.append(\"ddoja\")\n",
    "L.append(100)\n",
    "print(L)"
   ]
  },
  {
   "cell_type": "code",
   "execution_count": 126,
   "metadata": {},
   "outputs": [
    {
     "name": "stdout",
     "output_type": "stream",
     "text": [
      "Empty list\n"
     ]
    },
    {
     "data": {
      "text/plain": [
       "0"
      ]
     },
     "execution_count": 126,
     "metadata": {},
     "output_type": "execute_result"
    }
   ],
   "source": [
    "\n",
    "a=L.pop()\n",
    "print(a)\n",
    "len(L)"
   ]
  }
 ],
 "metadata": {
  "kernelspec": {
   "display_name": "DSA_Python_env",
   "language": "python",
   "name": "python3"
  },
  "language_info": {
   "codemirror_mode": {
    "name": "ipython",
    "version": 3
   },
   "file_extension": ".py",
   "mimetype": "text/x-python",
   "name": "python",
   "nbconvert_exporter": "python",
   "pygments_lexer": "ipython3",
   "version": "3.11.4"
  },
  "orig_nbformat": 4
 },
 "nbformat": 4,
 "nbformat_minor": 2
}
